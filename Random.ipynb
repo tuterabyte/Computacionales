{
 "cells": [
  {
   "cell_type": "code",
   "execution_count": 1,
   "metadata": {},
   "outputs": [],
   "source": [
    "import numpy as np"
   ]
  },
  {
   "cell_type": "code",
   "execution_count": 3,
   "metadata": {},
   "outputs": [],
   "source": [
    "import matplotlib.pyplot as plt"
   ]
  },
  {
   "cell_type": "code",
   "execution_count": 35,
   "metadata": {},
   "outputs": [
    {
     "data": {
      "text/plain": [
       "True"
      ]
     },
     "execution_count": 35,
     "metadata": {},
     "output_type": "execute_result"
    }
   ],
   "source": [
    "0 in f"
   ]
  },
  {
   "cell_type": "code",
   "execution_count": 44,
   "metadata": {},
   "outputs": [
    {
     "data": {
      "text/plain": [
       "[1, 1]"
      ]
     },
     "execution_count": 44,
     "metadata": {},
     "output_type": "execute_result"
    }
   ],
   "source": [
    "sort = []\n",
    "team = np.random.randint(11)\n",
    "memb = np.random.randint(3)\n",
    "sort.append(team)\n",
    "sort.append(memb)\n",
    "sort"
   ]
  },
  {
   "cell_type": "code",
   "execution_count": 33,
   "metadata": {},
   "outputs": [
    {
     "data": {
      "text/plain": [
       "[5,\n",
       " 10,\n",
       " 1,\n",
       " 9,\n",
       " 0,\n",
       " 6,\n",
       " 0,\n",
       " 10,\n",
       " 7,\n",
       " 7,\n",
       " 0,\n",
       " 7,\n",
       " 6,\n",
       " 4,\n",
       " 0,\n",
       " 0,\n",
       " 5,\n",
       " 8,\n",
       " 4,\n",
       " 0,\n",
       " 6,\n",
       " 6,\n",
       " 8,\n",
       " 0,\n",
       " 2,\n",
       " 7,\n",
       " 6,\n",
       " 3,\n",
       " 2,\n",
       " 1,\n",
       " 1,\n",
       " 8,\n",
       " 10,\n",
       " 1,\n",
       " 3,\n",
       " 1,\n",
       " 0,\n",
       " 0,\n",
       " 1,\n",
       " 2,\n",
       " 2,\n",
       " 5,\n",
       " 0,\n",
       " 8,\n",
       " 5,\n",
       " 7,\n",
       " 0,\n",
       " 2,\n",
       " 2,\n",
       " 0,\n",
       " 5,\n",
       " 1,\n",
       " 4,\n",
       " 1,\n",
       " 8,\n",
       " 7,\n",
       " 4,\n",
       " 9,\n",
       " 10,\n",
       " 4,\n",
       " 1,\n",
       " 6,\n",
       " 5,\n",
       " 2,\n",
       " 1,\n",
       " 5,\n",
       " 5,\n",
       " 6,\n",
       " 0,\n",
       " 3,\n",
       " 5,\n",
       " 1,\n",
       " 4,\n",
       " 2,\n",
       " 1,\n",
       " 9,\n",
       " 10,\n",
       " 5,\n",
       " 3,\n",
       " 2,\n",
       " 5,\n",
       " 2,\n",
       " 3,\n",
       " 1,\n",
       " 4,\n",
       " 5,\n",
       " 10,\n",
       " 1,\n",
       " 5,\n",
       " 2,\n",
       " 9,\n",
       " 9,\n",
       " 1,\n",
       " 10,\n",
       " 6,\n",
       " 4,\n",
       " 2,\n",
       " 0,\n",
       " 0,\n",
       " 3]"
      ]
     },
     "execution_count": 33,
     "metadata": {},
     "output_type": "execute_result"
    }
   ],
   "source": [
    "f = []\n",
    "for i in range(100):\n",
    "    x = np.random.randint(11)\n",
    "    f.append(x)\n",
    "f"
   ]
  },
  {
   "cell_type": "code",
   "execution_count": 4,
   "metadata": {},
   "outputs": [],
   "source": [
    "a = []\n",
    "for i in range(100):\n",
    "    x = np.random.randint(1,11)\n",
    "    a.append(x)"
   ]
  },
  {
   "cell_type": "code",
   "execution_count": 6,
   "metadata": {},
   "outputs": [
    {
     "data": {
      "text/plain": [
       "(array([ 8., 11.,  7.,  9., 13., 13., 10., 12.,  5., 12.]),\n",
       " array([ 1. ,  1.9,  2.8,  3.7,  4.6,  5.5,  6.4,  7.3,  8.2,  9.1, 10. ]),\n",
       " <BarContainer object of 10 artists>)"
      ]
     },
     "execution_count": 6,
     "metadata": {},
     "output_type": "execute_result"
    },
    {
     "data": {
      "image/png": "[encoded data removed]",
      "text/plain": [
       "<Figure size 432x288 with 1 Axes>"
      ]
     },
     "metadata": {
      "needs_background": "light"
     },
     "output_type": "display_data"
    }
   ],
   "source": [
    "plt.hist(a)"
   ]
  }
 ],
 "metadata": {
  "kernelspec": {
   "display_name": "Python 3",
   "language": "python",
   "name": "python3"
  },
  "language_info": {
   "codemirror_mode": {
    "name": "ipython",
    "version": 3
   },
   "file_extension": ".py",
   "mimetype": "text/x-python",
   "name": "python",
   "nbconvert_exporter": "python",
   "pygments_lexer": "ipython3",
   "version": "3.8.5"
  }
 },
 "nbformat": 4,
 "nbformat_minor": 4
}
