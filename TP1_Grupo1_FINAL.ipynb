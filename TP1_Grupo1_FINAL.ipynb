{
 "cells": [
  {
   "cell_type": "markdown",
   "metadata": {},
   "source": [
    "# Numpy"
   ]
  },
  {
   "cell_type": "markdown",
   "metadata": {},
   "source": [
    "a.\tConstruya una lista con las cotizaciones de cierre diario del activo GGAL (Banco Galicia) para el período comprendido entre el 1-6-2022 y el 31-7-2022. (pueden incorporar los valores a la lista como usted quiera, a mano copiándolo del diario, a través de librerías, excel, etc). "
   ]
  },
  {
   "cell_type": "code",
   "execution_count": 1,
   "metadata": {},
   "outputs": [],
   "source": [
    "import numpy as np"
   ]
  },
  {
   "cell_type": "code",
   "execution_count": 2,
   "metadata": {},
   "outputs": [
    {
     "name": "stdout",
     "output_type": "stream",
     "text": [
      "Precios GGAL: [9.11, 9.07, 9.37, 9.93, 10.21, 9.77, 10.21, 10.39, 9.91, 10.1, 10.07, 10.22, 9.91, 9.67, 9.45, 9.74, 9.58, 9.54, 9.2, 9.16, 8.8, 8.62, 8.5, 8.53, 8.31, 8.3, 8.13, 8.2, 8.58, 8.5, 8.54, 8.35, 8.18, 7.94, 8.03, 8.38, 8.12, 7.97, 8.15, 8.09, 8.26, 8.08, 7.81]\n"
     ]
    }
   ],
   "source": [
    "precios = [9.11, 9.07, 9.37, 9.93, 10.21, 9.77, 10.21, 10.39, 9.91, 10.1, 10.07, 10.22, 9.91, 9.67, 9.45, 9.74, 9.58, 9.54, 9.2, 9.16, 8.8, 8.62, 8.5, 8.53, 8.31, 8.3, 8.13, 8.2, 8.58, 8.5, 8.54, 8.35, 8.18, 7.94, 8.03, 8.38, 8.12, 7.97, 8.15, 8.09, 8.26, 8.08, 7.81]\n",
    "print ('Precios GGAL:',precios)"
   ]
  },
  {
   "cell_type": "code",
   "execution_count": 3,
   "metadata": {},
   "outputs": [
    {
     "data": {
      "text/plain": [
       "2.302585092994046"
      ]
     },
     "execution_count": 3,
     "metadata": {},
     "output_type": "execute_result"
    }
   ],
   "source": [
    "import math\n",
    "math.log (10)"
   ]
  },
  {
   "cell_type": "markdown",
   "metadata": {
    "tags": []
   },
   "source": [
    "b.\tCalcule diariamente el retorno logarítmico de la lista de cotizaciones."
   ]
  },
  {
   "cell_type": "code",
   "execution_count": 4,
   "metadata": {},
   "outputs": [],
   "source": [
    "retornos = list()\n",
    "for i in range (len(precios)-1):\n",
    "    retornos.append(math.log(precios[i+1]/precios[i]))"
   ]
  },
  {
   "cell_type": "code",
   "execution_count": 5,
   "metadata": {},
   "outputs": [
    {
     "name": "stdout",
     "output_type": "stream",
     "text": [
      "Retornos Logaritmicos: [-0.0044004471448215975, 0.03254083212328557, 0.058047381806750384, 0.027807154119493097, -0.04405116612188296, 0.04405116612188294, 0.017476172934561808, -0.04729945676923946, 0.018991075505317017, -0.0029747171167427322, 0.0147858780450874, -0.03080223643366178, -0.02451603887669371, -0.023013567959551604, 0.030226376148792526, -0.016563525671674576, -0.004184106522574096, -0.03629000140520049, -0.00435730536895559, -0.04009445720187809, -0.02066663680855922, -0.014018921179330818, 0.003523198007316878, -0.026129752636230755, -0.0012040940648045638, -0.02069459124283298, 0.00857323071048809, 0.04529975922966352, -0.00936775000360016, 0.0046948443042076635, -0.022499468937714293, -0.02056938824810841, -0.02977887535561124, 0.011271252699625752, 0.042663386535321535, -0.0315177603204053, -0.01864566137146286, 0.022333434450647737, -0.0073891961823710885, 0.020795856462486304, -0.022032714999882692, -0.033986908681409446]\n"
     ]
    }
   ],
   "source": [
    "retornos\n",
    "print ('Retornos Logaritmicos:',retornos)"
   ]
  },
  {
   "cell_type": "markdown",
   "metadata": {},
   "source": [
    "c.\tCalcule diariamente el retorno a través de la variación porcentual simple de la lista de cotizaciones."
   ]
  },
  {
   "cell_type": "code",
   "execution_count": 6,
   "metadata": {},
   "outputs": [],
   "source": [
    "ret_sim = []\n",
    "for i in range (1,len(precios)):\n",
    "    rs = (precios[i]/precios[i-1])-1 \n",
    "    ret_sim.append(rs)"
   ]
  },
  {
   "cell_type": "code",
   "execution_count": 7,
   "metadata": {},
   "outputs": [
    {
     "name": "stdout",
     "output_type": "stream",
     "text": [
      "Retornos Simples: [-0.004390779363336872, 0.03307607497243659, 0.05976520811099251, 0.02819738167170205, -0.04309500489715978, 0.045035823950870135, 0.01762977473065619, -0.04619826756496637, 0.01917255297679099, -0.002970297029702862, 0.014895729890764597, -0.03033268101761255, -0.024217961654894093, -0.022750775594622574, 0.030687830687830875, -0.01642710472279263, -0.0041753653444677186, -0.03563941299790352, -0.004347826086956386, -0.0393013100436681, -0.020454545454545614, -0.013921113689094988, 0.003529411764705781, -0.02579132473622492, -0.001203369434416346, -0.02048192771084334, 0.008610086100860892, 0.04634146341463419, -0.009324009324009341, 0.004705882352941115, -0.022248243559718883, -0.02035928143712573, -0.02933985330073341, 0.011335012594458238, 0.04358655043586568, -0.031026252983293756, -0.018472906403940836, 0.02258469259723972, -0.007361963190184118, 0.021013597033374465, -0.021791767554479424, -0.033415841584158446]\n"
     ]
    }
   ],
   "source": [
    "ret_sim\n",
    "print ('Retornos Simples:',ret_sim)"
   ]
  },
  {
   "cell_type": "markdown",
   "metadata": {},
   "source": [
    "d.\tSobre los retornos calculados en (c) obtenga calculando a través de fórmulas explícitamente codificadas por usted la Varianza, la Media aritmética y la Volatilidad."
   ]
  },
  {
   "cell_type": "code",
   "execution_count": 8,
   "metadata": {},
   "outputs": [],
   "source": [
    "sum_retornos = 0\n",
    "for i in range (len(ret_sim)):\n",
    "    sum_retornos += ret_sim [i]"
   ]
  },
  {
   "cell_type": "code",
   "execution_count": 9,
   "metadata": {},
   "outputs": [
    {
     "name": "stdout",
     "output_type": "stream",
     "text": [
      "Media: -0.003306478890350681\n"
     ]
    }
   ],
   "source": [
    "media = sum_retornos / len(ret_sim)\n",
    "media\n",
    "print ('Media:',media)"
   ]
  },
  {
   "cell_type": "code",
   "execution_count": 10,
   "metadata": {},
   "outputs": [],
   "source": [
    "sum_retornos = 0\n",
    "for i in range (len(ret_sim)):\n",
    "    sum_retornos += ((ret_sim[i]-media)**2)"
   ]
  },
  {
   "cell_type": "code",
   "execution_count": 11,
   "metadata": {},
   "outputs": [
    {
     "name": "stdout",
     "output_type": "stream",
     "text": [
      "Varianza: 0.0007262949216170657\n"
     ]
    }
   ],
   "source": [
    "var = sum_retornos / (len(ret_sim)-1)\n",
    "var\n",
    "print ('Varianza:',var)"
   ]
  },
  {
   "cell_type": "code",
   "execution_count": 12,
   "metadata": {},
   "outputs": [
    {
     "name": "stdout",
     "output_type": "stream",
     "text": [
      "Desvio: 0.02694985939883668\n"
     ]
    }
   ],
   "source": [
    "desv = math.sqrt(var)\n",
    "desv\n",
    "print ('Desvio:',desv)"
   ]
  },
  {
   "cell_type": "markdown",
   "metadata": {},
   "source": [
    "e.\tAhora verifique los valores de estas métricas obtenidos por usted en (d) con los valores que arrojan las funciones incorporadas en la librería Numpy."
   ]
  },
  {
   "cell_type": "code",
   "execution_count": 13,
   "metadata": {},
   "outputs": [
    {
     "name": "stdout",
     "output_type": "stream",
     "text": [
      "Media Np: -0.003306478890350681\n"
     ]
    }
   ],
   "source": [
    "np.mean(ret_sim) #Chrqueo Media\n",
    "print ('Media Np:',np.mean(ret_sim))"
   ]
  },
  {
   "cell_type": "code",
   "execution_count": 14,
   "metadata": {},
   "outputs": [
    {
     "name": "stdout",
     "output_type": "stream",
     "text": [
      "Varianza Np: 0.0007090021853880879\n"
     ]
    }
   ],
   "source": [
    "np.var(ret_sim) #Chequeo Varianza\n",
    "print ('Varianza Np:',np.var(ret_sim))"
   ]
  },
  {
   "cell_type": "code",
   "execution_count": 15,
   "metadata": {},
   "outputs": [
    {
     "name": "stdout",
     "output_type": "stream",
     "text": [
      "Desvio Np: 0.026627094948343276\n"
     ]
    }
   ],
   "source": [
    "math.sqrt(np.var(ret_sim)) #Chequeo Desvío\n",
    "print ('Desvio Np:',math.sqrt(np.var(ret_sim)))"
   ]
  },
  {
   "cell_type": "markdown",
   "metadata": {},
   "source": [
    "f.\tRealice una simulación de 1000 elementos que aproxime por distribución normal con media y desvío equivalentes a los obtenidos por usted y guarde estos datos en una nueva lista. (aclaración: el mu y sigma de la generación aleatoria deberán ser iguales a los obtenidos en (d))"
   ]
  },
  {
   "cell_type": "code",
   "execution_count": 16,
   "metadata": {},
   "outputs": [],
   "source": [
    "import random\n",
    "\n",
    "n = 1000\n",
    "s = np.random.normal(loc=media, scale=desv, size=n)"
   ]
  },
  {
   "cell_type": "code",
   "execution_count": 17,
   "metadata": {},
   "outputs": [],
   "source": [
    "sim = list()\n",
    "\n",
    "sim.append(np.random.normal(loc=media, scale=desv, size=n))"
   ]
  },
  {
   "cell_type": "code",
   "execution_count": 18,
   "metadata": {},
   "outputs": [
    {
     "data": {
      "text/plain": [
       "-0.004047534760770154"
      ]
     },
     "execution_count": 18,
     "metadata": {},
     "output_type": "execute_result"
    }
   ],
   "source": [
    "np.mean(s)"
   ]
  },
  {
   "cell_type": "code",
   "execution_count": 19,
   "metadata": {},
   "outputs": [],
   "source": [
    "s = list()\n",
    "np.random.seed(1)\n",
    "s.append(np.random.normal(media, desv, size = 1000))"
   ]
  },
  {
   "cell_type": "code",
   "execution_count": 20,
   "metadata": {},
   "outputs": [
    {
     "data": {
      "text/plain": [
       "-0.0022604881149287112"
      ]
     },
     "execution_count": 20,
     "metadata": {},
     "output_type": "execute_result"
    }
   ],
   "source": [
    "np.mean(s)"
   ]
  },
  {
   "cell_type": "code",
   "execution_count": 21,
   "metadata": {},
   "outputs": [
    {
     "data": {
      "text/plain": [
       "0.0006989637978894252"
      ]
     },
     "execution_count": 21,
     "metadata": {},
     "output_type": "execute_result"
    }
   ],
   "source": [
    "np.var(s)"
   ]
  },
  {
   "cell_type": "code",
   "execution_count": 22,
   "metadata": {},
   "outputs": [
    {
     "data": {
      "text/plain": [
       "0.026437923479150652"
      ]
     },
     "execution_count": 22,
     "metadata": {},
     "output_type": "execute_result"
    }
   ],
   "source": [
    "math.sqrt(np.var(s))"
   ]
  },
  {
   "cell_type": "markdown",
   "metadata": {},
   "source": [
    "g.\tCalcule la media móvil del precio para una ventana de 3 días y guarde los datos en una nueva lista."
   ]
  },
  {
   "cell_type": "code",
   "execution_count": 23,
   "metadata": {},
   "outputs": [
    {
     "data": {
      "text/plain": [
       "array([  9.11,  18.18,  27.55,  37.48,  47.69,  57.46,  67.67,  78.06,\n",
       "        87.97,  98.07, 108.14, 118.36, 128.27, 137.94, 147.39, 157.13,\n",
       "       166.71, 176.25, 185.45, 194.61, 203.41, 212.03, 220.53, 229.06,\n",
       "       237.37, 245.67, 253.8 , 262.  , 270.58, 279.08, 287.62, 295.97,\n",
       "       304.15, 312.09, 320.12, 328.5 , 336.62, 344.59, 352.74, 360.83,\n",
       "       369.09, 377.17, 384.98])"
      ]
     },
     "execution_count": 23,
     "metadata": {},
     "output_type": "execute_result"
    }
   ],
   "source": [
    "ret = np.cumsum(precios)     \n",
    "ret"
   ]
  },
  {
   "cell_type": "code",
   "execution_count": 24,
   "metadata": {},
   "outputs": [],
   "source": [
    "def media_movil(p, n):\n",
    "    ret = np.cumsum(p)\n",
    "    ret[n:] = ret[n:] - ret[:-n]\n",
    "    return ret[n - 1:] / n\n",
    "\n",
    "mm = []\n",
    "\n",
    "mm.append(media_movil(precios,3))"
   ]
  },
  {
   "cell_type": "code",
   "execution_count": 25,
   "metadata": {},
   "outputs": [
    {
     "name": "stdout",
     "output_type": "stream",
     "text": [
      "Media Movil: [array([ 9.18333333,  9.45666667,  9.83666667,  9.97      , 10.06333333,\n",
      "       10.12333333, 10.17      , 10.13333333, 10.02666667, 10.13      ,\n",
      "       10.06666667,  9.93333333,  9.67666667,  9.62      ,  9.59      ,\n",
      "        9.62      ,  9.44      ,  9.3       ,  9.05333333,  8.86      ,\n",
      "        8.64      ,  8.55      ,  8.44666667,  8.38      ,  8.24666667,\n",
      "        8.21      ,  8.30333333,  8.42666667,  8.54      ,  8.46333333,\n",
      "        8.35666667,  8.15666667,  8.05      ,  8.11666667,  8.17666667,\n",
      "        8.15666667,  8.08      ,  8.07      ,  8.16666667,  8.14333333,\n",
      "        8.05      ])]\n"
     ]
    }
   ],
   "source": [
    "mm\n",
    "print('Media Movil:',mm)"
   ]
  }
 ],
 "metadata": {
  "kernelspec": {
   "display_name": "Python 3",
   "language": "python",
   "name": "python3"
  },
  "language_info": {
   "codemirror_mode": {
    "name": "ipython",
    "version": 3
   },
   "file_extension": ".py",
   "mimetype": "text/x-python",
   "name": "python",
   "nbconvert_exporter": "python",
   "pygments_lexer": "ipython3",
   "version": "3.8.5"
  }
 },
 "nbformat": 4,
 "nbformat_minor": 5
}
